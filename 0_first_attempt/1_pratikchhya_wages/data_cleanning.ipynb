{
 "cells": [
  {
   "cell_type": "markdown",
   "metadata": {},
   "source": [
    "# Upload and Cleanning Process of Data (Income)"
   ]
  },
  {
   "cell_type": "markdown",
   "metadata": {},
   "source": [
    "### Importing Libraries"
   ]
  },
  {
   "cell_type": "code",
   "execution_count": 28,
   "metadata": {},
   "outputs": [],
   "source": [
    "# importing necesary libraries\n",
    "import pandas as pd "
   ]
  },
  {
   "cell_type": "markdown",
   "metadata": {},
   "source": [
    "## Income"
   ]
  },
  {
   "cell_type": "markdown",
   "metadata": {},
   "source": [
    "### Uploading Raw Data for Income"
   ]
  },
  {
   "cell_type": "code",
   "execution_count": 29,
   "metadata": {},
   "outputs": [
    {
     "data": {
      "text/html": [
       "<div>\n",
       "<style scoped>\n",
       "    .dataframe tbody tr th:only-of-type {\n",
       "        vertical-align: middle;\n",
       "    }\n",
       "\n",
       "    .dataframe tbody tr th {\n",
       "        vertical-align: top;\n",
       "    }\n",
       "\n",
       "    .dataframe thead th {\n",
       "        text-align: right;\n",
       "    }\n",
       "</style>\n",
       "<table border=\"1\" class=\"dataframe\">\n",
       "  <thead>\n",
       "    <tr style=\"text-align: right;\">\n",
       "      <th></th>\n",
       "      <th>Metropolitan</th>\n",
       "      <th>Quarterly</th>\n",
       "      <th>July</th>\n",
       "      <th>August</th>\n",
       "      <th>September</th>\n",
       "      <th>Total</th>\n",
       "      <th>Average</th>\n",
       "      <th>September.1</th>\n",
       "      <th>Total.1</th>\n",
       "    </tr>\n",
       "  </thead>\n",
       "  <tbody>\n",
       "    <tr>\n",
       "      <td>0</td>\n",
       "      <td>Statistical</td>\n",
       "      <td>Establishments</td>\n",
       "      <td>Employment</td>\n",
       "      <td>Employment</td>\n",
       "      <td>Employment</td>\n",
       "      <td>Quarterly</td>\n",
       "      <td>Weekly</td>\n",
       "      <td>Employment</td>\n",
       "      <td>Quarterly</td>\n",
       "    </tr>\n",
       "    <tr>\n",
       "      <td>1</td>\n",
       "      <td>Area (MSA)</td>\n",
       "      <td>NaN</td>\n",
       "      <td>NaN</td>\n",
       "      <td>NaN</td>\n",
       "      <td>NaN</td>\n",
       "      <td>Wages</td>\n",
       "      <td>Wage</td>\n",
       "      <td>Location</td>\n",
       "      <td>Wages</td>\n",
       "    </tr>\n",
       "    <tr>\n",
       "      <td>2</td>\n",
       "      <td>NaN</td>\n",
       "      <td>NaN</td>\n",
       "      <td>NaN</td>\n",
       "      <td>NaN</td>\n",
       "      <td>NaN</td>\n",
       "      <td>NaN</td>\n",
       "      <td>NaN</td>\n",
       "      <td>Quotient</td>\n",
       "      <td>Location</td>\n",
       "    </tr>\n",
       "    <tr>\n",
       "      <td>3</td>\n",
       "      <td>NaN</td>\n",
       "      <td>NaN</td>\n",
       "      <td>NaN</td>\n",
       "      <td>NaN</td>\n",
       "      <td>NaN</td>\n",
       "      <td>NaN</td>\n",
       "      <td>NaN</td>\n",
       "      <td>NaN</td>\n",
       "      <td>Quotient</td>\n",
       "    </tr>\n",
       "    <tr>\n",
       "      <td>4</td>\n",
       "      <td>NaN</td>\n",
       "      <td>NaN</td>\n",
       "      <td>NaN</td>\n",
       "      <td>NaN</td>\n",
       "      <td>NaN</td>\n",
       "      <td>NaN</td>\n",
       "      <td>NaN</td>\n",
       "      <td>NaN</td>\n",
       "      <td>NaN</td>\n",
       "    </tr>\n",
       "  </tbody>\n",
       "</table>\n",
       "</div>"
      ],
      "text/plain": [
       "  Metropolitan       Quarterly        July      August   September      Total  \\\n",
       "0  Statistical  Establishments  Employment  Employment  Employment  Quarterly   \n",
       "1   Area (MSA)             NaN         NaN         NaN         NaN      Wages   \n",
       "2          NaN             NaN         NaN         NaN         NaN        NaN   \n",
       "3          NaN             NaN         NaN         NaN         NaN        NaN   \n",
       "4          NaN             NaN         NaN         NaN         NaN        NaN   \n",
       "\n",
       "  Average September.1    Total.1  \n",
       "0  Weekly  Employment  Quarterly  \n",
       "1    Wage    Location      Wages  \n",
       "2     NaN    Quotient   Location  \n",
       "3     NaN         NaN   Quotient  \n",
       "4     NaN         NaN        NaN  "
      ]
     },
     "execution_count": 29,
     "metadata": {},
     "output_type": "execute_result"
    }
   ],
   "source": [
    "# Reading the csv file\n",
    "income_df = pd.read_csv('source/wages.csv') \n",
    "# Showing the raw dataframe to be cleanned\n",
    "income_df.head()"
   ]
  },
  {
   "cell_type": "markdown",
   "metadata": {},
   "source": [
    "### Cleanning process of Data"
   ]
  },
  {
   "cell_type": "code",
   "execution_count": 30,
   "metadata": {},
   "outputs": [
    {
     "data": {
      "text/html": [
       "<div>\n",
       "<style scoped>\n",
       "    .dataframe tbody tr th:only-of-type {\n",
       "        vertical-align: middle;\n",
       "    }\n",
       "\n",
       "    .dataframe tbody tr th {\n",
       "        vertical-align: top;\n",
       "    }\n",
       "\n",
       "    .dataframe thead th {\n",
       "        text-align: right;\n",
       "    }\n",
       "</style>\n",
       "<table border=\"1\" class=\"dataframe\">\n",
       "  <thead>\n",
       "    <tr style=\"text-align: right;\">\n",
       "      <th></th>\n",
       "      <th>Metropolitan Areas</th>\n",
       "      <th>Quarterly Income</th>\n",
       "      <th>Total Income</th>\n",
       "      <th>Avg Income</th>\n",
       "    </tr>\n",
       "  </thead>\n",
       "  <tbody>\n",
       "    <tr>\n",
       "      <td>0</td>\n",
       "      <td>Abilene, TX</td>\n",
       "      <td>4,277</td>\n",
       "      <td>703,615,180</td>\n",
       "      <td>801</td>\n",
       "    </tr>\n",
       "    <tr>\n",
       "      <td>1</td>\n",
       "      <td>Aguadilla-Isabela, PR</td>\n",
       "      <td>3,648</td>\n",
       "      <td>304,855,671</td>\n",
       "      <td>455</td>\n",
       "    </tr>\n",
       "    <tr>\n",
       "      <td>2</td>\n",
       "      <td>Akron, OH</td>\n",
       "      <td>17,670</td>\n",
       "      <td>3,784,546,233</td>\n",
       "      <td>901</td>\n",
       "    </tr>\n",
       "    <tr>\n",
       "      <td>3</td>\n",
       "      <td>Albany, GA</td>\n",
       "      <td>3,300</td>\n",
       "      <td>598,604,319</td>\n",
       "      <td>771</td>\n",
       "    </tr>\n",
       "    <tr>\n",
       "      <td>4</td>\n",
       "      <td>Albany, OR</td>\n",
       "      <td>3,663</td>\n",
       "      <td>547,388,461</td>\n",
       "      <td>895</td>\n",
       "    </tr>\n",
       "  </tbody>\n",
       "</table>\n",
       "</div>"
      ],
      "text/plain": [
       "      Metropolitan Areas Quarterly Income   Total Income Avg Income\n",
       "0            Abilene, TX            4,277    703,615,180        801\n",
       "1  Aguadilla-Isabela, PR            3,648    304,855,671        455\n",
       "2              Akron, OH           17,670  3,784,546,233        901\n",
       "3             Albany, GA            3,300    598,604,319        771\n",
       "4             Albany, OR            3,663    547,388,461        895"
      ]
     },
     "execution_count": 30,
     "metadata": {},
     "output_type": "execute_result"
    }
   ],
   "source": [
    "# Extracting relevant columns \n",
    "income_df=income_df[[\"Metropolitan\", \"Quarterly\",\"Total\",\"Average\"]]\n",
    "# Removing first six rows\n",
    "income_df=income_df.iloc[6:]\n",
    "# Dropping rows with missing values \n",
    "income_df.dropna()\n",
    "# Resetting index\n",
    "income_df = income_df.reset_index(drop=True)\n",
    "# Renaming columns\n",
    "income_df= income_df.rename({\"Average\":\"Avg Income\", \"Quarterly\":\"Quarterly Income\",\n",
    "                      \"Total\":\"Total Income\", \"Metropolitan\":\"Metropolitan Areas\"}, axis=1)\n",
    "# Removing unwanted text\n",
    "income_df[\"Metropolitan Areas\"] = income_df[\"Metropolitan Areas\"].apply(lambda x: x.replace(\" MSA\",\"\"))\n",
    "# Printing clean dataframe\n",
    "income_df.head()"
   ]
  },
  {
   "cell_type": "markdown",
   "metadata": {},
   "source": [
    "### Exporting data to csv file"
   ]
  },
  {
   "cell_type": "code",
   "execution_count": 31,
   "metadata": {},
   "outputs": [],
   "source": [
    "# Export data\n",
    "wage_pd.to_csv(r'output/wage_clean.csv')"
   ]
  }
 ],
 "metadata": {
  "kernelspec": {
   "display_name": "Python 3",
   "language": "python",
   "name": "python3"
  },
  "language_info": {
   "codemirror_mode": {
    "name": "ipython",
    "version": 3
   },
   "file_extension": ".py",
   "mimetype": "text/x-python",
   "name": "python",
   "nbconvert_exporter": "python",
   "pygments_lexer": "ipython3",
   "version": "3.7.4"
  }
 },
 "nbformat": 4,
 "nbformat_minor": 2
}
